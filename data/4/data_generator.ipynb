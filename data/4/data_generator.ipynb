{
 "cells": [
  {
   "cell_type": "code",
   "execution_count": 132,
   "metadata": {
    "id": "pXyjU62Ys3M9"
   },
   "outputs": [],
   "source": [
    "import math\n",
    "import numpy as np"
   ]
  },
  {
   "cell_type": "code",
   "execution_count": 162,
   "metadata": {
    "id": "fizcOGlxfGEh"
   },
   "outputs": [],
   "source": [
    "rows = 2000\n",
    "columns1 = 10\n",
    "columns2 = 3\n",
    "x = [[0 for x in range(columns1)] for x in range(rows)] #valores da função\n",
    "y = [[0 for x in range(columns2)] for x in range(rows)] #valores da função para resposta\n",
    "\n",
    "xx = [[0 for x in range(columns1)] for x in range(rows)] #valores do eixo x\n",
    "yy = [[0 for x in range(columns2)] for x in range(rows)] #valores do eixo x para resposta\n",
    "\n",
    "yend = [0, 0, 0] #ultimos valores da função para as respostas\n",
    "r = 1\n",
    "for j in range(rows):\n",
    "    for i in range(columns1):\n",
    "            r = r+0.1\n",
    "            xx[j][i] = round(r, 2)\n",
    "            a = math.sin(r + math.sin(r) ** 2)\n",
    "            a = round(a, 3)\n",
    "            x[j][i] = a\n",
    "\n",
    "\n",
    "for i in range(len(yend)):\n",
    "        r = r+0.1\n",
    "        yy[rows-1][i] = round(r, 2)\n",
    "        a = math.sin(r + math.sin(r) ** 2)\n",
    "        a = round(a, 3)\n",
    "        yend[i] = a"
   ]
  },
  {
   "cell_type": "code",
   "execution_count": 163,
   "metadata": {},
   "outputs": [],
   "source": [
    "for j in range(rows-1):\n",
    "    for i in range(columns2):\n",
    "        y[j][i] = x[j+1][i]\n",
    "        yy[j][i] = xx[j+1][i]\n",
    "for i in range(len(yend)):\n",
    "    y[rows-1][i] = yend[i]"
   ]
  },
  {
   "cell_type": "code",
   "execution_count": 167,
   "metadata": {},
   "outputs": [],
   "source": [
    "for j in range(rows):\n",
    "    for i in range(columns1):\n",
    "        if i == columns1-1:\n",
    "            #print(x[j][i])\n",
    "            break\n",
    "        #print(x[j][i], end =\",\")"
   ]
  },
  {
   "cell_type": "code",
   "execution_count": 168,
   "metadata": {},
   "outputs": [],
   "source": [
    "for j in range(rows):\n",
    "    for i in range(columns2):\n",
    "        if i == columns2-1:\n",
    "            #print(y[j][i])\n",
    "            break\n",
    "        #print(y[j][i], end =\",\")"
   ]
  },
  {
   "cell_type": "code",
   "execution_count": 169,
   "metadata": {},
   "outputs": [],
   "source": [
    "for j in range(rows):\n",
    "    for i in range(columns2):\n",
    "        if i == columns2-1:\n",
    "            #print(yy[j][i])\n",
    "            break\n",
    "        #print(yy[j][i], end =\",\")"
   ]
  }
 ],
 "metadata": {
  "colab": {
   "collapsed_sections": [],
   "name": "Untitled1.ipynb",
   "provenance": []
  },
  "kernelspec": {
   "display_name": "Python 3",
   "language": "python",
   "name": "python3"
  },
  "language_info": {
   "codemirror_mode": {
    "name": "ipython",
    "version": 3
   },
   "file_extension": ".py",
   "mimetype": "text/x-python",
   "name": "python",
   "nbconvert_exporter": "python",
   "pygments_lexer": "ipython3",
   "version": "3.8.2"
  }
 },
 "nbformat": 4,
 "nbformat_minor": 1
}
