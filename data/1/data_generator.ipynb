{
  "nbformat": 4,
  "nbformat_minor": 0,
  "metadata": {
    "colab": {
      "name": "gerador_dataset_Problema1.ipynb",
      "provenance": [],
      "collapsed_sections": []
    },
    "kernelspec": {
      "name": "python3",
      "display_name": "Python 3"
    }
  },
  "cells": [
    {
      "cell_type": "code",
      "metadata": {
        "id": "kABsuW19pVqx"
      },
      "source": [
        "import numpy as np\r\n",
        "a = 1"
      ],
      "execution_count": null,
      "outputs": []
    },
    {
      "cell_type": "code",
      "metadata": {
        "id": "iEwQX3qmHgdg"
      },
      "source": [
        "for i in range(a):\n",
        "  print(0 + np.random.rand()*0.1, 0 + np.random.rand()*0.1, 0 + np.random.rand()*0.1, sep=\",\")\n",
        "  print(0 - np.random.rand()*0.1, 0 - np.random.rand()*0.1, 0 - np.random.rand()*0.1, sep=\",\")\n",
        "\n",
        "  print(0 + np.random.rand()*0.1, 0 + np.random.rand()*0.1, 1 + np.random.rand()*0.1, sep=\",\")\n",
        "  print(0 - np.random.rand()*0.1, 0 - np.random.rand()*0.1, 1 - np.random.rand()*0.1, sep=\",\")\n",
        "\n",
        "  print(0 + np.random.rand()*0.1, 1 + np.random.rand()*0.1, 0 + np.random.rand()*0.1, sep=\",\")\n",
        "  print(0 - np.random.rand()*0.1, 1 - np.random.rand()*0.1, 0 - np.random.rand()*0.1, sep=\",\")\n",
        "\n",
        "  print(0 + np.random.rand()*0.1, 1 + np.random.rand()*0.1, 1 + np.random.rand()*0.1, sep=\",\")\n",
        "  print(0 - np.random.rand()*0.1, 1 - np.random.rand()*0.1, 1 - np.random.rand()*0.1, sep=\",\")\n",
        "\n",
        "  print(1 + np.random.rand()*0.1, 0 + np.random.rand()*0.1, 0 + np.random.rand()*0.1, sep=\",\")\n",
        "  print(1 - np.random.rand()*0.1, 0 - np.random.rand()*0.1, 0 - np.random.rand()*0.1, sep=\",\")\n",
        "\n",
        "  print(1 + np.random.rand()*0.1, 0 + np.random.rand()*0.1, 1 + np.random.rand()*0.1, sep=\",\")\n",
        "  print(1 - np.random.rand()*0.1, 0 - np.random.rand()*0.1, 1 - np.random.rand()*0.1, sep=\",\")\n",
        "\n",
        "  print(1 + np.random.rand()*0.1, 1 + np.random.rand()*0.1, 0 + np.random.rand()*0.1, sep=\",\")\n",
        "  print(1 - np.random.rand()*0.1, 1 - np.random.rand()*0.1, 0 - np.random.rand()*0.1, sep=\",\")\n",
        "\n",
        "  print(1 + np.random.rand()*0.1, 1 + np.random.rand()*0.1, 1 + np.random.rand()*0.1, sep=\",\")\n",
        "  print(1 - np.random.rand()*0.1, 1 - np.random.rand()*0.1, 1 - np.random.rand()*0.1, sep=\",\")"
      ],
      "execution_count": null,
      "outputs": []
    },
    {
      "cell_type": "code",
      "metadata": {
        "id": "yrZIgFOshJV_"
      },
      "source": [
        "for i in range(a):\r\n",
        "  print(1)\r\n",
        "  print(1)\r\n",
        "  print(2)\r\n",
        "  print(2)\r\n",
        "  print(3)\r\n",
        "  print(3)\r\n",
        "  print(4)\r\n",
        "  print(4)\r\n",
        "  print(5)\r\n",
        "  print(5)\r\n",
        "  print(6)\r\n",
        "  print(6)\r\n",
        "  print(7)\r\n",
        "  print(7)\r\n",
        "  print(8)\r\n",
        "  print(8)"
      ],
      "execution_count": null,
      "outputs": []
    }
  ]
}