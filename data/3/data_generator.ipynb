{
 "cells": [
  {
   "cell_type": "markdown",
   "metadata": {
    "id": "1U9hCSogrAJs"
   },
   "source": [
    "# 3)\n",
    "\n",
    "*   x²+y²=1\n",
    "*   y=x+1\n",
    "*   y=-x-1\n",
    "*   y=x-1\n",
    "*   y=-x+1\n",
    "*   y=0\n",
    "*   x=0\n",
    "\n",
    "\n",
    "C1 = {x>=0, y>=0, y<1-x}\n",
    "\n",
    "C2 = {x<0, y>=0, y<1+x}\n",
    "\n",
    "C3 = {x<0, y<0, y>-1-x}\n",
    "\n",
    "C4 = {x>=0, y<0, y>-1+x}\n",
    "\n",
    "C5 = {x>0, y>0, y>=1-x}\n",
    "\n",
    "C6 = {x<0, y>0, y>=1+x}\n",
    "\n",
    "C7 = {x<0, y<0, y<=-1-x}\n",
    "\n",
    "C8 = {x>0, y<0, y<=-1+x}"
   ]
  },
  {
   "cell_type": "code",
   "execution_count": 61,
   "metadata": {
    "id": "pXyjU62Ys3M9"
   },
   "outputs": [],
   "source": [
    "import numpy as np\n",
    "from random import random, uniform"
   ]
  },
  {
   "cell_type": "code",
   "execution_count": 62,
   "metadata": {
    "id": "fizcOGlxfGEh"
   },
   "outputs": [],
   "source": [
    "rows = 1000\n",
    "columns= 2\n",
    "x = [[0 for x in range(columns)] for x in range(rows)]\n",
    "for j in range(rows):\n",
    "    for i in range(columns):\n",
    "        a = 2*random()-1\n",
    "        a = round(a, 2)\n",
    "        max = np.sqrt(1 - a*a)\n",
    "        b = uniform(0, max)\n",
    "        b = round(b, 2)\n",
    "        b = -b if random() < 0.5 else b\n",
    "        x[j][i] = a\n",
    "        x[j][i+1] = b\n",
    "        break"
   ]
  },
  {
   "cell_type": "code",
   "execution_count": 63,
   "metadata": {
    "id": "mN5c-LzhlBLB"
   },
   "outputs": [],
   "source": [
    "y = []\n",
    "\n",
    "for j in range(rows):\n",
    "      for i in range(columns):\n",
    "        if x[j][i] >= 0 and x[j][i+1] >= 0 and x[j][i+1] <= 1-x[j][i]:\n",
    "              y.append(0)\n",
    "        elif x[j][i] <= 0 and x[j][i+1] >= 0 and x[j][i+1] <= 1+x[j][i]:\n",
    "              y.append(1)\n",
    "        elif x[j][i] <= 0 and x[j][i+1] <= 0 and x[j][i+1] >= -1-x[j][i]:\n",
    "              y.append(2)\n",
    "        elif x[j][i] >= 0 and x[j][i+1] <= 0 and x[j][i+1] >= -1+x[j][i]:\n",
    "              y.append(3)\n",
    "        elif x[j][i] >= 0 and x[j][i+1] > 0 and x[j][i+1] >= 1-x[j][i]:\n",
    "              y.append(4)\n",
    "        elif x[j][i] <= 0 and x[j][i+1] > 0 and x[j][i+1] >= 1+x[j][i]:\n",
    "              y.append(5)\n",
    "        elif x[j][i] <= 0 and x[j][i+1] < 0 and x[j][i+1] <= -1-x[j][i]:\n",
    "              y.append(6)\n",
    "        elif x[j][i] >= 0 and x[j][i+1] < 0 and x[j][i+1] <= -1+x[j][i]:\n",
    "              y.append(7)\n",
    "        else:\n",
    "              y.append('ERROR') #error\n",
    "        break"
   ]
  },
  {
   "cell_type": "code",
   "execution_count": 64,
   "metadata": {
    "id": "Ubqfdb9yAhzd"
   },
   "outputs": [],
   "source": [
    "for j in range(rows):\n",
    "      for i in range(columns):\n",
    "        a = x[j][i]\n",
    "        b = x[j][i+1]\n",
    "        #print(str(a) + ',' + str(b))\n",
    "        break"
   ]
  },
  {
   "cell_type": "code",
   "execution_count": 65,
   "metadata": {
    "id": "bn3k5umuNw5l"
   },
   "outputs": [],
   "source": [
    "for i in range(len(y)):\n",
    "    a = y[i]\n",
    "    #print(a)"
   ]
  }
 ],
 "metadata": {
  "colab": {
   "collapsed_sections": [],
   "name": "Untitled1.ipynb",
   "provenance": []
  },
  "kernelspec": {
   "display_name": "Python 3",
   "language": "python",
   "name": "python3"
  },
  "language_info": {
   "codemirror_mode": {
    "name": "ipython",
    "version": 3
   },
   "file_extension": ".py",
   "mimetype": "text/x-python",
   "name": "python",
   "nbconvert_exporter": "python",
   "pygments_lexer": "ipython3",
   "version": "3.8.2"
  }
 },
 "nbformat": 4,
 "nbformat_minor": 1
}
