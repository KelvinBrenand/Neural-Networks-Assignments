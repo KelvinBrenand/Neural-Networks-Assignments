{
  "nbformat": 4,
  "nbformat_minor": 0,
  "metadata": {
    "colab": {
      "name": "data_generator.ipynb",
      "provenance": []
    },
    "kernelspec": {
      "name": "python3",
      "display_name": "Python 3"
    }
  },
  "cells": [
    {
      "cell_type": "code",
      "metadata": {
        "id": "BTJGf6N0Ta9E"
      },
      "source": [
        "import math\r\n",
        "from random import random"
      ],
      "execution_count": 75,
      "outputs": []
    },
    {
      "cell_type": "code",
      "metadata": {
        "id": "I6bLrXFeRq1a"
      },
      "source": [
        "list = []\r\n",
        "for i in range(1):\r\n",
        "  list.append(4*random())\r\n",
        "  print(list[i])"
      ],
      "execution_count": null,
      "outputs": []
    },
    {
      "cell_type": "code",
      "metadata": {
        "id": "LVAgJYMl8Bb5"
      },
      "source": [
        "for i in list:\r\n",
        "  pii = math.pi*i\r\n",
        "  print(math.sin(pii)/pii)"
      ],
      "execution_count": null,
      "outputs": []
    }
  ]
}