{
 "cells": [
  {
   "cell_type": "code",
   "execution_count": 75,
   "metadata": {
    "id": "BTJGf6N0Ta9E"
   },
   "outputs": [],
   "source": [
    "import math\n",
    "from random import random"
   ]
  },
  {
   "cell_type": "code",
   "execution_count": null,
   "metadata": {
    "id": "I6bLrXFeRq1a"
   },
   "outputs": [],
   "source": [
    "list = []\n",
    "for i in range(1):\n",
    "  list.append(2*random()-1)\n",
    "  print(list[i])"
   ]
  },
  {
   "cell_type": "code",
   "execution_count": null,
   "metadata": {
    "id": "LVAgJYMl8Bb5"
   },
   "outputs": [],
   "source": [
    "for i in list:\n",
    "  pii = math.pi*i\n",
    "  print(math.sin(pii)/pii)"
   ]
  }
 ],
 "metadata": {
  "colab": {
   "name": "data_generator.ipynb",
   "provenance": []
  },
  "kernelspec": {
   "display_name": "Python 3",
   "language": "python",
   "name": "python3"
  },
  "language_info": {
   "codemirror_mode": {
    "name": "ipython",
    "version": 3
   },
   "file_extension": ".py",
   "mimetype": "text/x-python",
   "name": "python",
   "nbconvert_exporter": "python",
   "pygments_lexer": "ipython3",
   "version": "3.8.2"
  }
 },
 "nbformat": 4,
 "nbformat_minor": 1
}
